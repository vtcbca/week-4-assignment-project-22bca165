{
 "cells": [
  {
   "cell_type": "code",
   "execution_count": 34,
   "id": "a98bd1b1-a456-409a-88d8-e4aa805f0bc8",
   "metadata": {},
   "outputs": [],
   "source": [
    "import sqlite3"
   ]
  },
  {
   "cell_type": "code",
   "execution_count": 35,
   "id": "c1308acc-ec89-433c-9418-518d904fc94e",
   "metadata": {},
   "outputs": [],
   "source": [
    "import datetime"
   ]
  },
  {
   "cell_type": "code",
   "execution_count": 36,
   "id": "58deb82e-9389-4946-ac78-460a81e53b04",
   "metadata": {},
   "outputs": [],
   "source": [
    "con=sqlite3.connect(\"contactmanagementsystem.db\")"
   ]
  },
  {
   "cell_type": "code",
   "execution_count": 37,
   "id": "ed8abb18-001f-4277-88e1-1a1a01dcc1ba",
   "metadata": {},
   "outputs": [],
   "source": [
    "cur = con.cursor()"
   ]
  },
  {
   "cell_type": "code",
   "execution_count": 6,
   "id": "270227df-8b21-437c-aed2-2e119f8ea015",
   "metadata": {},
   "outputs": [
    {
     "data": {
      "text/plain": [
       "<sqlite3.Cursor at 0x21c8ef306c0>"
      ]
     },
     "execution_count": 6,
     "metadata": {},
     "output_type": "execute_result"
    }
   ],
   "source": [
    "cur.execute(\"\"\"create table if not exists contact\n",
    "               ( cid int primary key,\n",
    "                 fname text,\n",
    "                 lname text,\n",
    "                 contact number,\n",
    "                 email text,\n",
    "                 city text\n",
    "                 check ( email like '%_@_%._%')\n",
    "                );\"\"\")"
   ]
  },
  {
   "cell_type": "code",
   "execution_count": 7,
   "id": "6c8749ba-34ad-45de-a344-731ac545793c",
   "metadata": {},
   "outputs": [
    {
     "data": {
      "text/plain": [
       "<sqlite3.Cursor at 0x21c8ef306c0>"
      ]
     },
     "execution_count": 7,
     "metadata": {},
     "output_type": "execute_result"
    }
   ],
   "source": [
    "cur.execute(\"\"\"create table if not exists details_log\n",
    "                (\n",
    "                    fname text,\n",
    "                    lname text,\n",
    "                    newcontact number,\n",
    "                    oldcontact number,\n",
    "                    datetime text,\n",
    "                    operation text     \n",
    "                )\"\"\")"
   ]
  },
  {
   "cell_type": "code",
   "execution_count": 8,
   "id": "73a1fd0a-6a2a-4e09-bce5-fb9577017754",
   "metadata": {},
   "outputs": [
    {
     "data": {
      "text/plain": [
       "<sqlite3.Cursor at 0x21c8ef306c0>"
      ]
     },
     "execution_count": 8,
     "metadata": {},
     "output_type": "execute_result"
    }
   ],
   "source": [
    "cur.execute(\"\"\"create trigger if not exists insertdata\n",
    "               after insert on contact\n",
    "               begin\n",
    "                   insert into details_log\n",
    "                   values(new.fname,new.lname,new.contact,'NULL',datetime('now'),'insert');\n",
    "               end;\n",
    "                   \"\"\")"
   ]
  },
  {
   "cell_type": "code",
   "execution_count": 9,
   "id": "c1309aa8-046d-47c2-ab52-9567052ff80c",
   "metadata": {},
   "outputs": [
    {
     "data": {
      "text/plain": [
       "<sqlite3.Cursor at 0x21c8ef306c0>"
      ]
     },
     "execution_count": 9,
     "metadata": {},
     "output_type": "execute_result"
    }
   ],
   "source": [
    "cur.execute(\"\"\"create trigger if not exists deletedata\n",
    "               after delete on contact\n",
    "               begin\n",
    "                   insert into details_log\n",
    "                   values(old.fname,old.lname,'NULL',old.contact,datetime('now'),'delete');\n",
    "               end;\n",
    "                   \"\"\")"
   ]
  },
  {
   "cell_type": "code",
   "execution_count": 10,
   "id": "743b1d06-cbb8-4634-9b0c-9cc4e0821866",
   "metadata": {},
   "outputs": [
    {
     "data": {
      "text/plain": [
       "<sqlite3.Cursor at 0x21c8ef306c0>"
      ]
     },
     "execution_count": 10,
     "metadata": {},
     "output_type": "execute_result"
    }
   ],
   "source": [
    "cur.execute(\"\"\"create trigger if not exists updatedata\n",
    "               after update on contact\n",
    "               begin\n",
    "                   insert into details_log\n",
    "                   values(new.fname,new.lname,new.contact,old.contact,datetime('now'),'update');\n",
    "               end;\n",
    "                   \"\"\")"
   ]
  },
  {
   "cell_type": "code",
   "execution_count": 39,
   "id": "58448180-2102-41d0-83c9-74b22159129e",
   "metadata": {},
   "outputs": [],
   "source": [
    "def insertrecord():\n",
    "    cur=con.cursor()\n",
    "    cid=int(input(\"Enter contact id:\"))\n",
    "    fname=input(\"Enter the first name:\")\n",
    "    lname=input(\"Enter the last name:\")\n",
    "    contact=int(input(\"Enter the contact number:\"))\n",
    "    email=input(\"Enter the email:\")\n",
    "    city=input(\"Enter the city:\")\n",
    "    l=[cid,fname,lname,contact,email,city]\n",
    "    cur.execute(\"insert into contact values(?,?,?,?,?,?);\",l)\n",
    "    print(\"Sucessfully row insert.\");\n",
    "    con.commit()"
   ]
  },
  {
   "cell_type": "code",
   "execution_count": 40,
   "id": "2e72801c-f118-433d-873f-c5280ca4eecb",
   "metadata": {},
   "outputs": [],
   "source": [
    "def updateContacts():\n",
    "    cur=con.cursor()\n",
    "    name_search=input(\"\\n\\nEnter their First name: \")\n",
    "    new_contact=input(\"Enter New Contact No :\")\n",
    "    cur.execute(f\"update CONTACT set contact='{new_contact}' where fname='{name_search}'\")\n",
    "    print(\"Contact updated successfully.\\n\")\n",
    "    con.commit()"
   ]
  },
  {
   "cell_type": "code",
   "execution_count": 47,
   "id": "ca2b812d-8a08-465e-adb8-684c4ebe0859",
   "metadata": {},
   "outputs": [],
   "source": [
    "def deleteContacts():\n",
    "    cur=con.cursor()\n",
    "    name_search=input(\"\\n\\nEnter their First Name: \")\n",
    "    cur.execute(f\"delete from CONTACT where fname='{name_search}'\")\n",
    "    print(\"Contact deleted successfully.\\n\")\n",
    "    con.commit()"
   ]
  },
  {
   "cell_type": "code",
   "execution_count": 48,
   "id": "7ce71b9c-e44c-4461-9c0d-c6755f1d67dd",
   "metadata": {},
   "outputs": [],
   "source": [
    "def searchContacts():\n",
    "    cur=con.cursor()\n",
    "    name_search=input(\"\\n\\nEnter their First Name: \")\n",
    "    cur.execute(f\"select * from CONTACT where fname='{name_search}'\")\n",
    "    records=cur.fetchall()\n",
    "    for rows in records:\n",
    "        print('{}\\t{}\\t{}\\t{}\\t{}'.format(rows[0],rows[1],rows[2],rows[3],rows[4]))      \n",
    "    con.commit()"
   ]
  },
  {
   "cell_type": "code",
   "execution_count": 50,
   "id": "d6f121cf-05c9-45e9-afeb-107f42463716",
   "metadata": {},
   "outputs": [
    {
     "name": "stdout",
     "output_type": "stream",
     "text": [
      "\n",
      "-------------------------------------------------------------------------------------------------\n",
      "1- Insert contacts\n",
      "2- Update contacts\n",
      "3- Delete contacts\n",
      "4- Search contacts\n",
      "0- Exit the program\n"
     ]
    },
    {
     "name": "stdin",
     "output_type": "stream",
     "text": [
      "\n",
      "Enter your choice:  0\n"
     ]
    }
   ],
   "source": [
    "choice=1\n",
    "while choice!=0:\n",
    "    print('\\n-------------------------------------------------------------------------------------------------')\n",
    "    print('1- Insert contacts')\n",
    "    print('2- Update contacts')\n",
    "    print('3- Delete contacts')\n",
    "    print('4- Search contacts')\n",
    "    print('0- Exit the program')\n",
    "    choice=int(input('\\nEnter your choice: '))      \n",
    "    if choice==1:\n",
    "        insertrecord()      \n",
    "    elif choice==2:\n",
    "        updateContacts()    \n",
    "    elif choice==3:\n",
    "        deleteContacts()   \n",
    "    elif choice==4:\n",
    "        searchContacts()           "
   ]
  },
  {
   "cell_type": "code",
   "execution_count": 51,
   "id": "7917406e-0279-4d69-afe2-3194089cfe5f",
   "metadata": {},
   "outputs": [],
   "source": [
    "cur.close()"
   ]
  }
 ],
 "metadata": {
  "kernelspec": {
   "display_name": "Python 3 (ipykernel)",
   "language": "python",
   "name": "python3"
  },
  "language_info": {
   "codemirror_mode": {
    "name": "ipython",
    "version": 3
   },
   "file_extension": ".py",
   "mimetype": "text/x-python",
   "name": "python",
   "nbconvert_exporter": "python",
   "pygments_lexer": "ipython3",
   "version": "3.9.6"
  }
 },
 "nbformat": 4,
 "nbformat_minor": 5
}
